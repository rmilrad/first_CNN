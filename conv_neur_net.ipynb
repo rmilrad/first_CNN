{
  "nbformat": 4,
  "nbformat_minor": 0,
  "metadata": {
    "colab": {
      "name": "conv_neur_net.ipynb",
      "provenance": [],
      "authorship_tag": "ABX9TyPNmSIVkzd4igPTwO/sGS23",
      "include_colab_link": true
    },
    "kernelspec": {
      "name": "python3",
      "display_name": "Python 3"
    },
    "accelerator": "GPU"
  },
  "cells": [
    {
      "cell_type": "markdown",
      "metadata": {
        "id": "view-in-github",
        "colab_type": "text"
      },
      "source": [
        "<a href=\"https://colab.research.google.com/github/rmilrad/first_CNN/blob/master/conv_neur_net.ipynb\" target=\"_parent\"><img src=\"https://colab.research.google.com/assets/colab-badge.svg\" alt=\"Open In Colab\"/></a>"
      ]
    },
    {
      "cell_type": "code",
      "metadata": {
        "id": "G0oFR6t5k35I"
      },
      "source": [
        "import numpy as np"
      ],
      "execution_count": null,
      "outputs": []
    },
    {
      "cell_type": "code",
      "metadata": {
        "id": "nVleBWd4lcHu"
      },
      "source": [
        "#dataset\n",
        "from keras.datasets import mnist"
      ],
      "execution_count": null,
      "outputs": []
    },
    {
      "cell_type": "code",
      "metadata": {
        "id": "tPvBxXkvlseV",
        "outputId": "d7a78d02-ccba-4ce4-d60a-07777efa7bfe",
        "colab": {
          "base_uri": "https://localhost:8080/",
          "height": 51
        }
      },
      "source": [
        "(x_train, y_train),(x_test, y_test) = mnist.load_data()"
      ],
      "execution_count": null,
      "outputs": [
        {
          "output_type": "stream",
          "text": [
            "Downloading data from https://storage.googleapis.com/tensorflow/tf-keras-datasets/mnist.npz\n",
            "11493376/11490434 [==============================] - 0s 0us/step\n"
          ],
          "name": "stdout"
        }
      ]
    },
    {
      "cell_type": "code",
      "metadata": {
        "id": "Ov31t9pxmW5J",
        "outputId": "b924e846-ef39-451a-c03e-b69468cde0a3",
        "colab": {
          "base_uri": "https://localhost:8080/",
          "height": 34
        }
      },
      "source": [
        "x_train.shape"
      ],
      "execution_count": null,
      "outputs": [
        {
          "output_type": "execute_result",
          "data": {
            "text/plain": [
              "(60000, 28, 28)"
            ]
          },
          "metadata": {
            "tags": []
          },
          "execution_count": 6
        }
      ]
    },
    {
      "cell_type": "code",
      "metadata": {
        "id": "pf9cdPq0mcpH",
        "outputId": "0025d0ad-58f9-4be9-ce94-f43b6eb49cb5",
        "colab": {
          "base_uri": "https://localhost:8080/",
          "height": 34
        }
      },
      "source": [
        "x_test.shape"
      ],
      "execution_count": null,
      "outputs": [
        {
          "output_type": "execute_result",
          "data": {
            "text/plain": [
              "(10000, 28, 28)"
            ]
          },
          "metadata": {
            "tags": []
          },
          "execution_count": 7
        }
      ]
    },
    {
      "cell_type": "code",
      "metadata": {
        "id": "3U2OVnkWmrxC",
        "outputId": "1d04f5d2-5aa4-468d-c9a3-c0d1f577cda0",
        "colab": {
          "base_uri": "https://localhost:8080/",
          "height": 34
        }
      },
      "source": [
        "y_train.shape"
      ],
      "execution_count": null,
      "outputs": [
        {
          "output_type": "execute_result",
          "data": {
            "text/plain": [
              "(60000,)"
            ]
          },
          "metadata": {
            "tags": []
          },
          "execution_count": 9
        }
      ]
    },
    {
      "cell_type": "code",
      "metadata": {
        "id": "eYwdxy28mu-u",
        "outputId": "7a115ffe-30a8-4cd9-c89c-8af5df030655",
        "colab": {
          "base_uri": "https://localhost:8080/",
          "height": 1000
        }
      },
      "source": [
        "x_train[0]"
      ],
      "execution_count": null,
      "outputs": [
        {
          "output_type": "execute_result",
          "data": {
            "text/plain": [
              "array([[  0,   0,   0,   0,   0,   0,   0,   0,   0,   0,   0,   0,   0,\n",
              "          0,   0,   0,   0,   0,   0,   0,   0,   0,   0,   0,   0,   0,\n",
              "          0,   0],\n",
              "       [  0,   0,   0,   0,   0,   0,   0,   0,   0,   0,   0,   0,   0,\n",
              "          0,   0,   0,   0,   0,   0,   0,   0,   0,   0,   0,   0,   0,\n",
              "          0,   0],\n",
              "       [  0,   0,   0,   0,   0,   0,   0,   0,   0,   0,   0,   0,   0,\n",
              "          0,   0,   0,   0,   0,   0,   0,   0,   0,   0,   0,   0,   0,\n",
              "          0,   0],\n",
              "       [  0,   0,   0,   0,   0,   0,   0,   0,   0,   0,   0,   0,   0,\n",
              "          0,   0,   0,   0,   0,   0,   0,   0,   0,   0,   0,   0,   0,\n",
              "          0,   0],\n",
              "       [  0,   0,   0,   0,   0,   0,   0,   0,   0,   0,   0,   0,   0,\n",
              "          0,   0,   0,   0,   0,   0,   0,   0,   0,   0,   0,   0,   0,\n",
              "          0,   0],\n",
              "       [  0,   0,   0,   0,   0,   0,   0,   0,   0,   0,   0,   0,   3,\n",
              "         18,  18,  18, 126, 136, 175,  26, 166, 255, 247, 127,   0,   0,\n",
              "          0,   0],\n",
              "       [  0,   0,   0,   0,   0,   0,   0,   0,  30,  36,  94, 154, 170,\n",
              "        253, 253, 253, 253, 253, 225, 172, 253, 242, 195,  64,   0,   0,\n",
              "          0,   0],\n",
              "       [  0,   0,   0,   0,   0,   0,   0,  49, 238, 253, 253, 253, 253,\n",
              "        253, 253, 253, 253, 251,  93,  82,  82,  56,  39,   0,   0,   0,\n",
              "          0,   0],\n",
              "       [  0,   0,   0,   0,   0,   0,   0,  18, 219, 253, 253, 253, 253,\n",
              "        253, 198, 182, 247, 241,   0,   0,   0,   0,   0,   0,   0,   0,\n",
              "          0,   0],\n",
              "       [  0,   0,   0,   0,   0,   0,   0,   0,  80, 156, 107, 253, 253,\n",
              "        205,  11,   0,  43, 154,   0,   0,   0,   0,   0,   0,   0,   0,\n",
              "          0,   0],\n",
              "       [  0,   0,   0,   0,   0,   0,   0,   0,   0,  14,   1, 154, 253,\n",
              "         90,   0,   0,   0,   0,   0,   0,   0,   0,   0,   0,   0,   0,\n",
              "          0,   0],\n",
              "       [  0,   0,   0,   0,   0,   0,   0,   0,   0,   0,   0, 139, 253,\n",
              "        190,   2,   0,   0,   0,   0,   0,   0,   0,   0,   0,   0,   0,\n",
              "          0,   0],\n",
              "       [  0,   0,   0,   0,   0,   0,   0,   0,   0,   0,   0,  11, 190,\n",
              "        253,  70,   0,   0,   0,   0,   0,   0,   0,   0,   0,   0,   0,\n",
              "          0,   0],\n",
              "       [  0,   0,   0,   0,   0,   0,   0,   0,   0,   0,   0,   0,  35,\n",
              "        241, 225, 160, 108,   1,   0,   0,   0,   0,   0,   0,   0,   0,\n",
              "          0,   0],\n",
              "       [  0,   0,   0,   0,   0,   0,   0,   0,   0,   0,   0,   0,   0,\n",
              "         81, 240, 253, 253, 119,  25,   0,   0,   0,   0,   0,   0,   0,\n",
              "          0,   0],\n",
              "       [  0,   0,   0,   0,   0,   0,   0,   0,   0,   0,   0,   0,   0,\n",
              "          0,  45, 186, 253, 253, 150,  27,   0,   0,   0,   0,   0,   0,\n",
              "          0,   0],\n",
              "       [  0,   0,   0,   0,   0,   0,   0,   0,   0,   0,   0,   0,   0,\n",
              "          0,   0,  16,  93, 252, 253, 187,   0,   0,   0,   0,   0,   0,\n",
              "          0,   0],\n",
              "       [  0,   0,   0,   0,   0,   0,   0,   0,   0,   0,   0,   0,   0,\n",
              "          0,   0,   0,   0, 249, 253, 249,  64,   0,   0,   0,   0,   0,\n",
              "          0,   0],\n",
              "       [  0,   0,   0,   0,   0,   0,   0,   0,   0,   0,   0,   0,   0,\n",
              "          0,  46, 130, 183, 253, 253, 207,   2,   0,   0,   0,   0,   0,\n",
              "          0,   0],\n",
              "       [  0,   0,   0,   0,   0,   0,   0,   0,   0,   0,   0,   0,  39,\n",
              "        148, 229, 253, 253, 253, 250, 182,   0,   0,   0,   0,   0,   0,\n",
              "          0,   0],\n",
              "       [  0,   0,   0,   0,   0,   0,   0,   0,   0,   0,  24, 114, 221,\n",
              "        253, 253, 253, 253, 201,  78,   0,   0,   0,   0,   0,   0,   0,\n",
              "          0,   0],\n",
              "       [  0,   0,   0,   0,   0,   0,   0,   0,  23,  66, 213, 253, 253,\n",
              "        253, 253, 198,  81,   2,   0,   0,   0,   0,   0,   0,   0,   0,\n",
              "          0,   0],\n",
              "       [  0,   0,   0,   0,   0,   0,  18, 171, 219, 253, 253, 253, 253,\n",
              "        195,  80,   9,   0,   0,   0,   0,   0,   0,   0,   0,   0,   0,\n",
              "          0,   0],\n",
              "       [  0,   0,   0,   0,  55, 172, 226, 253, 253, 253, 253, 244, 133,\n",
              "         11,   0,   0,   0,   0,   0,   0,   0,   0,   0,   0,   0,   0,\n",
              "          0,   0],\n",
              "       [  0,   0,   0,   0, 136, 253, 253, 253, 212, 135, 132,  16,   0,\n",
              "          0,   0,   0,   0,   0,   0,   0,   0,   0,   0,   0,   0,   0,\n",
              "          0,   0],\n",
              "       [  0,   0,   0,   0,   0,   0,   0,   0,   0,   0,   0,   0,   0,\n",
              "          0,   0,   0,   0,   0,   0,   0,   0,   0,   0,   0,   0,   0,\n",
              "          0,   0],\n",
              "       [  0,   0,   0,   0,   0,   0,   0,   0,   0,   0,   0,   0,   0,\n",
              "          0,   0,   0,   0,   0,   0,   0,   0,   0,   0,   0,   0,   0,\n",
              "          0,   0],\n",
              "       [  0,   0,   0,   0,   0,   0,   0,   0,   0,   0,   0,   0,   0,\n",
              "          0,   0,   0,   0,   0,   0,   0,   0,   0,   0,   0,   0,   0,\n",
              "          0,   0]], dtype=uint8)"
            ]
          },
          "metadata": {
            "tags": []
          },
          "execution_count": 10
        }
      ]
    },
    {
      "cell_type": "code",
      "metadata": {
        "id": "QSzfkI0Jm6Kk"
      },
      "source": [
        "import matplotlib.pyplot as plt"
      ],
      "execution_count": null,
      "outputs": []
    },
    {
      "cell_type": "code",
      "metadata": {
        "id": "eTkbKhAUm9La",
        "outputId": "a739337d-2266-4e72-f9c8-eb1bfcf71d70",
        "colab": {
          "base_uri": "https://localhost:8080/",
          "height": 265
        }
      },
      "source": [
        "plt.imshow(x_train[0], cmap = 'gray')\n",
        "plt.show()"
      ],
      "execution_count": null,
      "outputs": [
        {
          "output_type": "display_data",
          "data": {
            "image/png": "[encoded data removed]",
            "text/plain": [
              "<Figure size 432x288 with 1 Axes>"
            ]
          },
          "metadata": {
            "tags": [],
            "needs_background": "light"
          }
        }
      ]
    },
    {
      "cell_type": "code",
      "metadata": {
        "id": "92RmHu8WnK_m",
        "outputId": "fb0f6cd0-867a-4345-83d3-ebf6d1559d70",
        "colab": {
          "base_uri": "https://localhost:8080/",
          "height": 34
        }
      },
      "source": [
        "y_train[0]"
      ],
      "execution_count": null,
      "outputs": [
        {
          "output_type": "execute_result",
          "data": {
            "text/plain": [
              "5"
            ]
          },
          "metadata": {
            "tags": []
          },
          "execution_count": 14
        }
      ]
    },
    {
      "cell_type": "code",
      "metadata": {
        "id": "V-hmfMJlnbEb"
      },
      "source": [
        "x_train = x_train.reshape((x_train.shape[0],28,28,1))\n",
        "x_test = x_test.reshape((x_test.shape[0],28,28,1))"
      ],
      "execution_count": null,
      "outputs": []
    },
    {
      "cell_type": "code",
      "metadata": {
        "id": "Z-0f7TBAnxtr",
        "outputId": "53afc622-1a30-4422-811f-112aaf071c85",
        "colab": {
          "base_uri": "https://localhost:8080/",
          "height": 34
        }
      },
      "source": [
        "x_train.shape"
      ],
      "execution_count": null,
      "outputs": [
        {
          "output_type": "execute_result",
          "data": {
            "text/plain": [
              "(60000, 28, 28, 1)"
            ]
          },
          "metadata": {
            "tags": []
          },
          "execution_count": 13
        }
      ]
    },
    {
      "cell_type": "code",
      "metadata": {
        "id": "3hUAGTJsoIDK"
      },
      "source": [
        "x_train = x_train/255.0\n",
        "x_test = x_test/255.0"
      ],
      "execution_count": null,
      "outputs": []
    },
    {
      "cell_type": "code",
      "metadata": {
        "id": "TSxyP1rIoYPZ"
      },
      "source": [
        "from keras.utils import to_categorical"
      ],
      "execution_count": null,
      "outputs": []
    },
    {
      "cell_type": "code",
      "metadata": {
        "id": "t21cfOgAos3R"
      },
      "source": [
        "y_train = to_categorical(y_train)\n",
        "y_test = to_categorical(y_test)"
      ],
      "execution_count": null,
      "outputs": []
    },
    {
      "cell_type": "code",
      "metadata": {
        "id": "AsNj2rV9o1B_"
      },
      "source": [
        "from tensorflow.keras.models import Sequential\n",
        "from tensorflow.keras.layers import Dense, Dropout, Flatten, Conv2D, MaxPooling2D, BatchNormalization\n",
        "from tensorflow.keras.optimizers import Adam"
      ],
      "execution_count": null,
      "outputs": []
    },
    {
      "cell_type": "code",
      "metadata": {
        "id": "aCsWYQddpeOL",
        "outputId": "820dadbf-4a41-48fc-9597-f04b51d0d41f",
        "colab": {
          "base_uri": "https://localhost:8080/",
          "height": 1000
        }
      },
      "source": [
        "#construct\n",
        "model = Sequential()\n",
        "\n",
        "#construct convolutional layers\n",
        "model.add(Conv2D(32, kernel_size = 3, padding = 'same', activation = 'relu', input_shape = (28,28,1)))\n",
        "model.add(Conv2D(64, kernel_size = 3, padding = 'same', activation = 'relu'))\n",
        "model.add(Conv2D(128, kernel_size = 3, padding = 'same', activation = 'relu'))\n",
        "\n",
        "model.add(Flatten())\n",
        "\n",
        "#construct neural network\n",
        "model.add(Dense(128, activation = 'relu'))\n",
        "model.add(Dense(10, activation = 'softmax'))\n",
        "\n",
        "adam = Adam(lr = 0.0001)\n",
        "\n",
        "model.compile(loss = 'categorical_crossentropy', optimizer = adam, metrics = ['acc'])\n",
        "\n",
        "history = model.fit(x_train, y_train, validation_split = 0.2, batch_size = 16, epochs = 50)"
      ],
      "execution_count": null,
      "outputs": [
        {
          "output_type": "stream",
          "text": [
            "Epoch 1/50\n",
            "3000/3000 [==============================] - 16s 5ms/step - loss: 0.1551 - acc: 0.9532 - val_loss: 0.0628 - val_acc: 0.9826\n",
            "Epoch 2/50\n",
            "3000/3000 [==============================] - 16s 5ms/step - loss: 0.0503 - acc: 0.9845 - val_loss: 0.0550 - val_acc: 0.9855\n",
            "Epoch 3/50\n",
            "3000/3000 [==============================] - 16s 5ms/step - loss: 0.0297 - acc: 0.9910 - val_loss: 0.0435 - val_acc: 0.9871\n",
            "Epoch 4/50\n",
            "3000/3000 [==============================] - 16s 5ms/step - loss: 0.0172 - acc: 0.9944 - val_loss: 0.0536 - val_acc: 0.9865\n",
            "Epoch 5/50\n",
            "3000/3000 [==============================] - 16s 5ms/step - loss: 0.0128 - acc: 0.9954 - val_loss: 0.0414 - val_acc: 0.9883\n",
            "Epoch 6/50\n",
            "3000/3000 [==============================] - 16s 5ms/step - loss: 0.0080 - acc: 0.9976 - val_loss: 0.0679 - val_acc: 0.9843\n",
            "Epoch 7/50\n",
            "3000/3000 [==============================] - 16s 5ms/step - loss: 0.0062 - acc: 0.9977 - val_loss: 0.0731 - val_acc: 0.9854\n",
            "Epoch 8/50\n",
            "3000/3000 [==============================] - 16s 5ms/step - loss: 0.0045 - acc: 0.9984 - val_loss: 0.0634 - val_acc: 0.9855\n",
            "Epoch 9/50\n",
            "3000/3000 [==============================] - 16s 5ms/step - loss: 0.0044 - acc: 0.9984 - val_loss: 0.0648 - val_acc: 0.9879\n",
            "Epoch 10/50\n",
            "3000/3000 [==============================] - 16s 5ms/step - loss: 0.0026 - acc: 0.9990 - val_loss: 0.0703 - val_acc: 0.9862\n",
            "Epoch 11/50\n",
            "3000/3000 [==============================] - 16s 5ms/step - loss: 0.0035 - acc: 0.9987 - val_loss: 0.0636 - val_acc: 0.9862\n",
            "Epoch 12/50\n",
            "3000/3000 [==============================] - 16s 5ms/step - loss: 0.0019 - acc: 0.9994 - val_loss: 0.0582 - val_acc: 0.9890\n",
            "Epoch 13/50\n",
            "3000/3000 [==============================] - 16s 5ms/step - loss: 0.0019 - acc: 0.9994 - val_loss: 0.0652 - val_acc: 0.9890\n",
            "Epoch 14/50\n",
            "3000/3000 [==============================] - 16s 5ms/step - loss: 0.0016 - acc: 0.9995 - val_loss: 0.0673 - val_acc: 0.9883\n",
            "Epoch 15/50\n",
            "3000/3000 [==============================] - 16s 5ms/step - loss: 0.0015 - acc: 0.9995 - val_loss: 0.0586 - val_acc: 0.9896\n",
            "Epoch 16/50\n",
            "3000/3000 [==============================] - 16s 5ms/step - loss: 0.0011 - acc: 0.9998 - val_loss: 0.0686 - val_acc: 0.9887\n",
            "Epoch 17/50\n",
            "3000/3000 [==============================] - 16s 5ms/step - loss: 0.0019 - acc: 0.9993 - val_loss: 0.0594 - val_acc: 0.9898\n",
            "Epoch 18/50\n",
            "3000/3000 [==============================] - 16s 5ms/step - loss: 1.3922e-04 - acc: 1.0000 - val_loss: 0.0670 - val_acc: 0.9904\n",
            "Epoch 19/50\n",
            "3000/3000 [==============================] - 16s 5ms/step - loss: 0.0011 - acc: 0.9997 - val_loss: 0.0614 - val_acc: 0.9901\n",
            "Epoch 20/50\n",
            "3000/3000 [==============================] - 16s 5ms/step - loss: 0.0010 - acc: 0.9997 - val_loss: 0.0793 - val_acc: 0.9890\n",
            "Epoch 21/50\n",
            "3000/3000 [==============================] - 16s 5ms/step - loss: 0.0013 - acc: 0.9996 - val_loss: 0.0749 - val_acc: 0.9897\n",
            "Epoch 22/50\n",
            "3000/3000 [==============================] - 16s 5ms/step - loss: 6.3275e-04 - acc: 0.9998 - val_loss: 0.0775 - val_acc: 0.9894\n",
            "Epoch 23/50\n",
            "3000/3000 [==============================] - 16s 5ms/step - loss: 5.9453e-05 - acc: 1.0000 - val_loss: 0.0771 - val_acc: 0.9898\n",
            "Epoch 24/50\n",
            "3000/3000 [==============================] - 16s 5ms/step - loss: 2.6781e-06 - acc: 1.0000 - val_loss: 0.0769 - val_acc: 0.9902\n",
            "Epoch 25/50\n",
            "3000/3000 [==============================] - 16s 5ms/step - loss: 3.6051e-07 - acc: 1.0000 - val_loss: 0.0793 - val_acc: 0.9904\n",
            "Epoch 26/50\n",
            "3000/3000 [==============================] - 16s 5ms/step - loss: 1.2593e-07 - acc: 1.0000 - val_loss: 0.0850 - val_acc: 0.9902\n",
            "Epoch 27/50\n",
            "3000/3000 [==============================] - 16s 5ms/step - loss: 3.3614e-08 - acc: 1.0000 - val_loss: 0.0914 - val_acc: 0.9903\n",
            "Epoch 28/50\n",
            "3000/3000 [==============================] - 16s 5ms/step - loss: 9.9639e-09 - acc: 1.0000 - val_loss: 0.0978 - val_acc: 0.9905\n",
            "Epoch 29/50\n",
            "3000/3000 [==============================] - 16s 5ms/step - loss: 3.4968e-09 - acc: 1.0000 - val_loss: 0.1043 - val_acc: 0.9906\n",
            "Epoch 30/50\n",
            "3000/3000 [==============================] - 16s 5ms/step - loss: 1.3386e-09 - acc: 1.0000 - val_loss: 0.1082 - val_acc: 0.9905\n",
            "Epoch 31/50\n",
            "3000/3000 [==============================] - 16s 5ms/step - loss: 7.0284e-10 - acc: 1.0000 - val_loss: 0.1103 - val_acc: 0.9906\n",
            "Epoch 32/50\n",
            "3000/3000 [==============================] - 16s 5ms/step - loss: 5.0167e-10 - acc: 1.0000 - val_loss: 0.1109 - val_acc: 0.9907\n",
            "Epoch 33/50\n",
            "3000/3000 [==============================] - 16s 5ms/step - loss: 3.8495e-10 - acc: 1.0000 - val_loss: 0.1106 - val_acc: 0.9906\n",
            "Epoch 34/50\n",
            "3000/3000 [==============================] - 16s 5ms/step - loss: 3.4024e-10 - acc: 1.0000 - val_loss: 0.1094 - val_acc: 0.9908\n",
            "Epoch 35/50\n",
            "3000/3000 [==============================] - 16s 5ms/step - loss: 3.7005e-10 - acc: 1.0000 - val_loss: 0.1091 - val_acc: 0.9908\n",
            "Epoch 36/50\n",
            "3000/3000 [==============================] - 16s 5ms/step - loss: 3.5266e-10 - acc: 1.0000 - val_loss: 0.1082 - val_acc: 0.9908\n",
            "Epoch 37/50\n",
            "3000/3000 [==============================] - 16s 5ms/step - loss: 3.4273e-10 - acc: 1.0000 - val_loss: 0.1076 - val_acc: 0.9908\n",
            "Epoch 38/50\n",
            "3000/3000 [==============================] - 16s 5ms/step - loss: 3.4769e-10 - acc: 1.0000 - val_loss: 0.1071 - val_acc: 0.9906\n",
            "Epoch 39/50\n",
            "3000/3000 [==============================] - 16s 5ms/step - loss: 3.5763e-10 - acc: 1.0000 - val_loss: 0.1072 - val_acc: 0.9907\n",
            "Epoch 40/50\n",
            "3000/3000 [==============================] - 16s 5ms/step - loss: 3.1292e-10 - acc: 1.0000 - val_loss: 0.1061 - val_acc: 0.9908\n",
            "Epoch 41/50\n",
            "3000/3000 [==============================] - 16s 5ms/step - loss: 3.3776e-10 - acc: 1.0000 - val_loss: 0.1064 - val_acc: 0.9908\n",
            "Epoch 42/50\n",
            "3000/3000 [==============================] - 16s 5ms/step - loss: 3.0299e-10 - acc: 1.0000 - val_loss: 0.1058 - val_acc: 0.9908\n",
            "Epoch 43/50\n",
            "3000/3000 [==============================] - 16s 5ms/step - loss: 3.1044e-10 - acc: 1.0000 - val_loss: 0.1057 - val_acc: 0.9908\n",
            "Epoch 44/50\n",
            "3000/3000 [==============================] - 16s 5ms/step - loss: 2.8312e-10 - acc: 1.0000 - val_loss: 0.1053 - val_acc: 0.9906\n",
            "Epoch 45/50\n",
            "3000/3000 [==============================] - 16s 5ms/step - loss: 2.8312e-10 - acc: 1.0000 - val_loss: 0.1053 - val_acc: 0.9908\n",
            "Epoch 46/50\n",
            "3000/3000 [==============================] - 16s 5ms/step - loss: 2.8064e-10 - acc: 1.0000 - val_loss: 0.1045 - val_acc: 0.9908\n",
            "Epoch 47/50\n",
            "3000/3000 [==============================] - 16s 5ms/step - loss: 2.9306e-10 - acc: 1.0000 - val_loss: 0.1046 - val_acc: 0.9908\n",
            "Epoch 48/50\n",
            "3000/3000 [==============================] - 16s 5ms/step - loss: 2.7070e-10 - acc: 1.0000 - val_loss: 0.1042 - val_acc: 0.9909\n",
            "Epoch 49/50\n",
            "3000/3000 [==============================] - 16s 5ms/step - loss: 2.5084e-10 - acc: 1.0000 - val_loss: 0.1044 - val_acc: 0.9908\n",
            "Epoch 50/50\n",
            "3000/3000 [==============================] - 16s 5ms/step - loss: 2.5580e-10 - acc: 1.0000 - val_loss: 0.1042 - val_acc: 0.9908\n"
          ],
          "name": "stdout"
        }
      ]
    },
    {
      "cell_type": "code",
      "metadata": {
        "id": "JjR-r2QJq4Yd"
      },
      "source": [
        "\n"
      ],
      "execution_count": null,
      "outputs": []
    }
  ]
}